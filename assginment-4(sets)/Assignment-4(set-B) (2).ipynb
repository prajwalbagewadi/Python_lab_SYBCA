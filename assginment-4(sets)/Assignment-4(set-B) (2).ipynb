{
  "metadata": {
    "kernelspec": {
      "name": "python",
      "display_name": "Python (Pyodide)",
      "language": "python"
    },
    "language_info": {
      "codemirror_mode": {
        "name": "python",
        "version": 3
      },
      "file_extension": ".py",
      "mimetype": "text/x-python",
      "name": "python",
      "nbconvert_exporter": "python",
      "pygments_lexer": "ipython3",
      "version": "3.8"
    }
  },
  "nbformat_minor": 5,
  "nbformat": 4,
  "cells": [
    {
      "id": "a35e9644-0114-4a7b-8923-275704455195",
      "cell_type": "markdown",
      "source": "## Assignment-4",
      "metadata": {}
    },
    {
      "id": "cba46d24-a502-4ade-a174-a183480a094c",
      "cell_type": "markdown",
      "source": "## SET-B",
      "metadata": {}
    },
    {
      "id": "426b4b7c-4d07-4986-9d4f-b0741151e396",
      "cell_type": "markdown",
      "source": "## 1. Write a Python program to accept the strings which contains all vowels .",
      "metadata": {}
    },
    {
      "id": "60c065e4-294b-4737-b198-40235efd711d",
      "cell_type": "code",
      "source": "Str=\"aeiou\"\nStr1=\"aeio\"\nmyset1={Str}\nprint(f\"myset1={myset1} type={type(myset1)}\")\n#set() method\nmyset=set(Str)\nprint(f\"myset={myset} type={type(myset)}\")\nmyset=set(Str1)\nmyset2=set()\nmyset2.add(myset)\nprint(f\"myset={myset2} type={type(myset2)}\")\n",
      "metadata": {},
      "outputs": [
        {
          "name": "stdout",
          "output_type": "stream",
          "text": [
            "myset1={'aeiou'} type=<class 'set'>\n",
            "myset={'i', 'a', 'o', 'u', 'e'} type=<class 'set'>\n"
          ]
        },
        {
          "ename": "TypeError",
          "evalue": "unhashable type: 'set'",
          "output_type": "error",
          "traceback": [
            "\u001b[0;31m---------------------------------------------------------------------------\u001b[0m",
            "\u001b[0;31mTypeError\u001b[0m                                 Traceback (most recent call last)",
            "Cell \u001b[0;32mIn[20], line 10\u001b[0m\n\u001b[1;32m      8\u001b[0m myset\u001b[38;5;241m=\u001b[39m\u001b[38;5;28mset\u001b[39m(Str1)\n\u001b[1;32m      9\u001b[0m myset2\u001b[38;5;241m=\u001b[39m\u001b[38;5;28mset\u001b[39m()\n\u001b[0;32m---> 10\u001b[0m \u001b[43mmyset2\u001b[49m\u001b[38;5;241;43m.\u001b[39;49m\u001b[43madd\u001b[49m\u001b[43m(\u001b[49m\u001b[43mmyset\u001b[49m\u001b[43m)\u001b[49m\n\u001b[1;32m     11\u001b[0m \u001b[38;5;28mprint\u001b[39m(\u001b[38;5;124mf\u001b[39m\u001b[38;5;124m\"\u001b[39m\u001b[38;5;124mmyset=\u001b[39m\u001b[38;5;132;01m{\u001b[39;00mmyset2\u001b[38;5;132;01m}\u001b[39;00m\u001b[38;5;124m type=\u001b[39m\u001b[38;5;132;01m{\u001b[39;00m\u001b[38;5;28mtype\u001b[39m(myset2)\u001b[38;5;132;01m}\u001b[39;00m\u001b[38;5;124m\"\u001b[39m)\n",
            "\u001b[0;31mTypeError\u001b[0m: unhashable type: 'set'"
          ]
        }
      ],
      "execution_count": 20
    },
    {
      "id": "d0390511-7ebf-4b3d-b478-3a6c96804353",
      "cell_type": "markdown",
      "source": "In Python, sets themselves are not hashable, and as a result, you cannot create a set of sets directly. \nThis is because sets are mutable, and mutable types are not hashable, which is a requirement for elements in a set.",
      "metadata": {}
    },
    {
      "id": "971e1545-0c0a-4d1b-9cae-b49b7c5a09b7",
      "cell_type": "markdown",
      "source": "## 1. Write a Python program to accept the strings which contains all vowels ",
      "metadata": {}
    },
    {
      "id": "e48201bb-ed2c-4742-a48c-64cfd903d9c5",
      "cell_type": "code",
      "source": "Str1=input(\"enter str one\")\nStr2=input(\"enter str two\")\nStr3=input(\"enter str three\")\nilist=[Str1,Str2,Str3]\nprint(f\"ilist={ilist} type={type(ilist)}\")\nvovels={'a','e','i','o','u'}\nprint(f\"vovels={vovels} type={type(vovels)}\")\ndef check_vovels(myset):\n    for char in myset:\n        if(char in vovels):\n            continue\n        else:\n            print(f\"{char} not vovel\")\n            break\n    return True\n#create a set in loop for ilist so each string can be checked for vovels\nfor String in ilist:\n    #use set() method to seperate out chars in string and store it in the set\n    myset1=set(String)\n    print(f\"myset1={myset1} type={type(myset1)}\")\n    var=check_vovels(myset1)\n    print(f\"myset1={myset1} type={type(myset1)} contains all vovels={var}\")",
      "metadata": {},
      "outputs": [
        {
          "name": "stdin",
          "output_type": "stream",
          "text": [
            "enter str one aei\n",
            "enter str two aeiou\n",
            "enter str three serial\n"
          ]
        },
        {
          "name": "stdout",
          "output_type": "stream",
          "text": [
            "ilist=['aei', 'aeiou', 'serial'] type=<class 'list'>\n",
            "vovels={'o', 'u', 'e', 'i', 'a'} type=<class 'set'>\n",
            "myset1={'i', 'a', 'e'} type=<class 'set'>\n",
            "myset1={'i', 'a', 'e'} type=<class 'set'> contains all vovels=True\n",
            "myset1={'o', 'u', 'e', 'i', 'a'} type=<class 'set'>\n",
            "myset1={'o', 'u', 'e', 'i', 'a'} type=<class 'set'> contains all vovels=True\n",
            "myset1={'l', 'e', 'i', 'a', 's', 'r'} type=<class 'set'>\n",
            "l not vovel\n",
            "myset1={'l', 'e', 'i', 'a', 's', 'r'} type=<class 'set'> contains all vovels=True\n"
          ]
        }
      ],
      "execution_count": 18
    },
    {
      "id": "29779378-83fa-43e8-abed-05a32d48539d",
      "cell_type": "markdown",
      "source": "## 2. Write a Python program to create a union of sets.",
      "metadata": {}
    },
    {
      "id": "7290d385-1c4d-4d4c-8550-e38d9c9ec61d",
      "cell_type": "code",
      "source": "#create set\nSYBCA={112, 114, 116, 118, 115}\nprint(f\"SYBCA={SYBCA} type={type(SYBCA)}\")\nTYBCA={111, 112, 115, 119, 114}\nprint(f\"TYBCA={TYBCA} type={type(TYBCA)}\")\n# union of set using union method\nresult=set()\nresult=result.union(SYBCA,TYBCA)\nprint(f\"result Union() method={result} type={type(result)}\")\n# union using | pipe operator\nresult1=set()\nresult1=set(SYBCA|TYBCA)\nprint(f\"result1 | operator={result1} type={type(result1)}\")",
      "metadata": {},
      "outputs": [
        {
          "name": "stdout",
          "output_type": "stream",
          "text": [
            "SYBCA={112, 114, 115, 116, 118} type=<class 'set'>\n",
            "TYBCA={111, 112, 114, 115, 119} type=<class 'set'>\n",
            "result Union() method={111, 112, 114, 115, 116, 118, 119} type=<class 'set'>\n",
            "result1 | operator={112, 114, 115, 116, 118, 119, 111} type=<class 'set'>\n"
          ]
        }
      ],
      "execution_count": 20
    },
    {
      "id": "d3867b4d-7017-4b86-81c0-90aee4be4287",
      "cell_type": "markdown",
      "source": "The union of set A and set B is equal to the set containing all the elements in A and B.",
      "metadata": {}
    },
    {
      "id": "d1f7e682-5386-4cea-8790-7b6361bab277",
      "cell_type": "markdown",
      "source": "## 3. Write a Python program to create an intersection of sets.",
      "metadata": {}
    },
    {
      "id": "e707709e-67cf-4dc7-b679-334067cc470a",
      "cell_type": "code",
      "source": "#create set\nSYBCA={112, 114, 116, 118, 115}\nprint(f\"SYBCA={SYBCA} type={type(SYBCA)}\")\nTYBCA={111, 112, 115, 119, 114}\nprint(f\"TYBCA={TYBCA} type={type(TYBCA)}\")\n# using intersection() method\n#isect=set()\nisect=set(SYBCA.intersection(TYBCA))\n#print(isect)\nprint(f\"isect intersection() method={isect} type={type(isect)}\")\n#Intersection using & operator.\nisect1=set(SYBCA & TYBCA)\nprint(f\"isect1 & operator={isect1} type={type(isect1)}\")",
      "metadata": {
        "trusted": true
      },
      "outputs": [
        {
          "name": "stdout",
          "text": "SYBCA={112, 114, 115, 116, 118} type=<class 'set'>\nTYBCA={112, 114, 115, 119, 111} type=<class 'set'>\nisect intersection() method={112, 114, 115} type=<class 'set'>\nisect1 & operator={112, 114, 115} type=<class 'set'>\n",
          "output_type": "stream"
        }
      ],
      "execution_count": 5
    },
    {
      "id": "740b8617-b23b-481f-873d-898e1df849af",
      "cell_type": "markdown",
      "source": " intersection of two sets A and B is the set of all those elements which are common to both A and B",
      "metadata": {}
    },
    {
      "id": "df4ee26a-dc6c-4464-96d8-a2f437163f1e",
      "cell_type": "markdown",
      "source": "syntax:\nans=Set1.ntersection(set2)",
      "metadata": {}
    },
    {
      "id": "c001537d-29a5-4e5f-b216-143ef7dc4a34",
      "cell_type": "markdown",
      "source": "## 4. Write a Python program to find maximum and the minimum value in a set.",
      "metadata": {}
    },
    {
      "id": "7989c5a6-3a1d-4709-8c9a-90ff8b688b16",
      "cell_type": "code",
      "source": "#create set\nworker={2, 4, 6, 8, 10}\nprint(f\"worker set={worker} type={type(worker)}\")\n# max() method\nmaxitem=max(worker)\nprint(f\"max element from set={maxitem}\")\n# min() method\nminitem=min(worker)\nprint(f\"min element from set={minitem}\")",
      "metadata": {
        "trusted": true
      },
      "outputs": [
        {
          "name": "stdout",
          "text": "worker set={2, 4, 6, 8, 10} type=<class 'set'>\nmax element from set=10\nmin element from set=2\n",
          "output_type": "stream"
        }
      ],
      "execution_count": 9
    },
    {
      "id": "a72bdcbc-a711-4c2a-9df3-7c9a77edaa20",
      "cell_type": "markdown",
      "source": "## 5. Write a Python program to create set difference and a symmetric difference",
      "metadata": {}
    },
    {
      "id": "a1c69dfc-3dfc-483d-9187-9c2359620f63",
      "cell_type": "markdown",
      "source": "set difference :\nThe set difference in Python is the difference between the elements of two sets. \nIf P and Q are two sets, \nthen (P-Q) will give you the elements present in P but not in Q.",
      "metadata": {}
    },
    {
      "id": "8a53ceca-6deb-403d-82b8-563996cc4b88",
      "cell_type": "markdown",
      "source": "The symmetric difference of two sets is the collection of elements which are in either of the sets but not in both. \nThe symmetric difference of two sets A and B is denoted by A△B.\nIn Python, the symmetric difference of two sets can be found using the symmetric_difference() method. \nThe symmetric_difference() method takes two sets as input \nand returns a new set that contains all the elements that are in either of the input sets but not in both.",
      "metadata": {}
    },
    {
      "id": "460727c4-d34a-45a1-83c5-f480a8ef30a1",
      "cell_type": "code",
      "source": "#set create\nset1 = {1, 2, 3, 4}\nset2 = {3, 4, 5, 6}\n#difference \nans1=set1.difference(set2)\nprint(f\"difference of set1,set2={ans1}\")\n# symmetric difference\nans2=set1.symmetric_difference(set2)\nprint(f\"symmetric difference of set1,set2={ans2}\")",
      "metadata": {
        "trusted": true
      },
      "outputs": [
        {
          "name": "stdout",
          "text": "difference of set1,set2={1, 2}\nsymmetric difference of set1,set2={1, 2, 5, 6}\n",
          "output_type": "stream"
        }
      ],
      "execution_count": 11
    },
    {
      "id": "e61810a8-1df3-4a7f-8273-00be97974980",
      "cell_type": "markdown",
      "source": "## 6. Write a Python program to find the length of a set.",
      "metadata": {}
    },
    {
      "id": "e3982683-297a-4cfd-b96d-d8f3e13ef6fc",
      "cell_type": "code",
      "source": "set1={1,2,3,4}\n#using len() method\nprint(f\"the length ofusing len() set1={len(set1)}\")\n# manual method\ncount=0\nfor i in set1:\n    count+=1\n\nprint(f\"the length ofusing manual method set1={count}\")",
      "metadata": {
        "trusted": true
      },
      "outputs": [
        {
          "name": "stdout",
          "text": "the length ofusing len() set1=4\nthe length ofusing manual method set1=4\n",
          "output_type": "stream"
        }
      ],
      "execution_count": 13
    },
    {
      "id": "92f73b5f-48fe-4579-a693-8c68b36605cf",
      "cell_type": "code",
      "source": "",
      "metadata": {
        "trusted": true
      },
      "outputs": [],
      "execution_count": null
    }
  ]
}