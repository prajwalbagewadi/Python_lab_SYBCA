{
 "cells": [
  {
   "cell_type": "markdown",
   "id": "b088384f-6449-4b6a-b435-e96177e467e8",
   "metadata": {},
   "source": [
    "# ASSIGNMENT NO. 4:- PYTHON SET"
   ]
  },
  {
   "cell_type": "markdown",
   "id": "1b7769dd-effe-4c4f-bd1a-01caba66ce45",
   "metadata": {},
   "source": [
    "A Set in Python programming is an unordered collection data type that is iterable, mutable and has no duplicate elements"
   ]
  },
  {
   "cell_type": "markdown",
   "id": "153cbeb9-58bc-4a19-865d-09a64122c524",
   "metadata": {},
   "source": [
    "Set are represented by { } (values enclosed in curly braces)\n",
    "A set is created by placing all the items (elements) inside curly braces {}, separated by comma or\n",
    "by using the built-in function set()."
   ]
  },
  {
   "cell_type": "code",
   "execution_count": 3,
   "id": "3db29199-85c4-4c89-bac9-f6a3cc8497d9",
   "metadata": {},
   "outputs": [
    {
     "name": "stdout",
     "output_type": "stream",
     "text": [
      "my_set= {10, 11, 12}\n",
      "type of my_set=<class 'set'>\n"
     ]
    }
   ],
   "source": [
    "my_set={12,10,11}\n",
    "print(\"my_set=\",my_set)\n",
    "print(f\"type of my_set={type(my_set)}\")"
   ]
  },
  {
   "cell_type": "code",
   "execution_count": 7,
   "id": "5cd71057-a8ac-4ffb-9d1a-ab2cb50ac399",
   "metadata": {},
   "outputs": [
    {
     "name": "stdout",
     "output_type": "stream",
     "text": [
      "my_set={'a', 11, 12}\n",
      "type of my_set=<class 'set'>\n"
     ]
    }
   ],
   "source": [
    "my_set={12,'a',11}\n",
    "print(f\"my_set={my_set}\")\n",
    "print(f\"type of my_set={type(my_set)}\")"
   ]
  },
  {
   "cell_type": "markdown",
   "id": "413712f5-aa15-44ad-bd84-cc257a9c67f9",
   "metadata": {},
   "source": [
    "## NOTE : \n",
    "Are sets ordered in Python? No, sets in Python are unordered collections of unique elements. \n",
    "This means that they do not retain any specific order, and the items in a set may appear in a different order each time \n",
    "the set is iterated over."
   ]
  },
  {
   "cell_type": "markdown",
   "id": "e26286d7-d33f-481e-917f-013fca94e8a2",
   "metadata": {},
   "source": [
    "## set of mixed data types"
   ]
  },
  {
   "cell_type": "code",
   "execution_count": 9,
   "id": "19ed527e-d543-4942-ab11-81e585d849d3",
   "metadata": {},
   "outputs": [
    {
     "name": "stdout",
     "output_type": "stream",
     "text": [
      "type of item in mixed_set=<class 'bool'>\n",
      "type of item in mixed_set=<class 'tuple'>\n",
      "type of item in mixed_set=<class 'str'>\n",
      "type of item in mixed_set=<class 'int'>\n",
      "type of item in mixed_set=<class 'int'>\n",
      "type of item in mixed_set=<class 'str'>\n",
      "mixed_set={True, (1, 3, 2), 'cherry', 11, 12, 'berries'}\n",
      "type of mixed_set=<class 'set'>\n"
     ]
    }
   ],
   "source": [
    "#mixed set\n",
    "mixed_set={12,True,(1,3,2),'cherry',11,'berries'}\n",
    "for item in mixed_set:\n",
    "    print(f\"type of item in mixed_set={type(item)}\")\n",
    "\n",
    "print(f\"mixed_set={mixed_set}\")\n",
    "print(f\"type of mixed_set={type(mixed_set)}\")"
   ]
  },
  {
   "cell_type": "markdown",
   "id": "fe5b4542-a892-41f6-b3db-0b46ac39d2d0",
   "metadata": {},
   "source": [
    "## union and intersection using operator '|' and '&'"
   ]
  },
  {
   "cell_type": "code",
   "execution_count": 11,
   "id": "fa397024-6087-48bb-baa0-14a7ef461203",
   "metadata": {},
   "outputs": [
    {
     "name": "stdout",
     "output_type": "stream",
     "text": [
      "union of set_a and set_b ={1, 2, 3, 4, 5, 6, 7, 8}\n",
      "intersection of set_a and set_b ={1, 2}\n"
     ]
    }
   ],
   "source": [
    "set_a={1,2,3,4,5}\n",
    "set_b={6,7,8,1,2}\n",
    "#union\n",
    "print(f\"union of set_a and set_b ={set_a|set_b}\")\n",
    "#intersection\n",
    "print(f\"intersection of set_a and set_b ={set_a&set_b}\")"
   ]
  },
  {
   "cell_type": "markdown",
   "id": "01b77083-b59e-4d1d-8802-b975b360621b",
   "metadata": {},
   "source": [
    "## SET-A"
   ]
  },
  {
   "cell_type": "markdown",
   "id": "03d98cc1-87a5-4f80-8e66-9b5068bdc6c4",
   "metadata": {},
   "source": [
    "## 1. What is the output of following program:\n",
    "## sets = {1, 2, 3, 4, 4}\n",
    "## print(sets)"
   ]
  },
  {
   "cell_type": "code",
   "execution_count": 12,
   "id": "7e8b90aa-0ff1-47c4-9083-a4cf0eea0425",
   "metadata": {},
   "outputs": [
    {
     "name": "stdout",
     "output_type": "stream",
     "text": [
      "type of sets=<class 'set'>\n",
      "sets={1, 2, 3, 4}\n"
     ]
    }
   ],
   "source": [
    "sets={1,2,3,4,4}\n",
    "print(f\"type of sets={type(sets)}\")\n",
    "print(f\"sets={sets}\")"
   ]
  },
  {
   "cell_type": "markdown",
   "id": "c0ee4105-81af-41ed-a071-e74d0669f1f2",
   "metadata": {},
   "source": [
    "The set will print only 1 2 3 and 4 skipping single element 4"
   ]
  },
  {
   "cell_type": "markdown",
   "id": "274a0ed3-ebfa-4013-925e-1901313e2edb",
   "metadata": {},
   "source": [
    "## 2. Write a python program to remove and return an arbitrary set element.Raise KeyErrorif\n",
    "## the set is empty"
   ]
  },
  {
   "cell_type": "markdown",
   "id": "5e0444c2-c6c9-446d-8315-c39cea453f2f",
   "metadata": {},
   "source": [
    "\"arbitrary\" meaning:\n",
    "based on random choice or personal whim, rather than any reason or system.\n",
    "\"an arbitrary decision\""
   ]
  },
  {
   "cell_type": "markdown",
   "id": "1dbc3525",
   "metadata": {},
   "source": [
    "In this example, the pop() method Can also be used to remove and print an arbitrary element from the set. \n",
    "Since sets do not have a specific order, you cannot predict which element will be removed; \n",
    "it could be any element from the set."
   ]
  },
  {
   "cell_type": "markdown",
   "id": "1d93a10f",
   "metadata": {},
   "source": [
    "Python Random module generates random numbers in Python. \n",
    "These are pseudo-random numbers means they are not truly random.\n",
    "This module can be used to perform random actions such as generating random numbers, \n",
    "printing random a value for a list or string, etc. \n",
    "It is an in-built function in Python."
   ]
  },
  {
   "cell_type": "markdown",
   "id": "a43cc5fc",
   "metadata": {},
   "source": [
    "try\t\"Try\" is a Python keyword. It enables you to test a code block for errors.\n",
    "\n",
    "Raise\traise() is a function that interrupts the normal execution process of a program. \n",
    "It signals the presence of special circumstances such as exceptions or errors.\n",
    "\n",
    "except\t\"Except\" is a Python keyword that is used to handle exceptions arising in the previous try clause."
   ]
  },
  {
   "cell_type": "code",
   "execution_count": 24,
   "id": "44dbd070-424d-4d01-b42d-9a07aa27521f",
   "metadata": {},
   "outputs": [
    {
     "name": "stdout",
     "output_type": "stream",
     "text": [
      "my_set={1, 2, 3, 4, 5} and type of my_set=<class 'set'>\n",
      "random element=1\n",
      "value of my_set=(1, {2, 3, 4, 5})type of my_set=<class 'tuple'>\n",
      "Error:set is eMptySet\n"
     ]
    }
   ],
   "source": [
    "my_set = {1, 2, 3, 4, 5}\n",
    "empty_set={}\n",
    "print(f\"my_set={my_set} and type of my_set={type(my_set)}\")\n",
    "\n",
    "import random\n",
    "def rem_ret(input_set):\n",
    "    try:\n",
    "        if(len(input_set)==0):\n",
    "            raise KeyError\n",
    "        else:\n",
    "            element=random.choice(list(input_set))\n",
    "            print(f\"random element={element}\")\n",
    "            input_set.remove(element)\n",
    "            #print(f\"input_set={input_set}\")\n",
    "            return element,input_set    \n",
    "    except KeyError:\n",
    "        print(\"Error:set is eMptySet\")\n",
    "        \n",
    "        \n",
    "my_set=rem_ret(my_set)\n",
    "print(f\"value of my_set={my_set}type of my_set={type(my_set)}\")\n",
    "emptyset=rem_ret(empty_set)"
   ]
  },
  {
   "cell_type": "markdown",
   "id": "3d2b527d",
   "metadata": {},
   "source": [
    "## 3. Write a Python program to do iteration over sets."
   ]
  },
  {
   "cell_type": "code",
   "execution_count": 3,
   "id": "271666cf",
   "metadata": {},
   "outputs": [
    {
     "name": "stdout",
     "output_type": "stream",
     "text": [
      "(1, 'java', 1)\n",
      "(2, 'go', 3.14)\n",
      "(3, 'world', 5.6)\n",
      "(4, 'python', 6.7)\n",
      "(5, 'hello', 'hello')\n"
     ]
    }
   ],
   "source": [
    "#import itertools\n",
    "#from itertools import zip\n",
    "\n",
    "# Set of numbers\n",
    "numbers = {1, 2, 3, 4, 5}\n",
    "\n",
    "# Set of strings\n",
    "strings = {\"hello\", \"world\", \"python\",\"go\",\"java\"}\n",
    "\n",
    "# Set of mixed data types\n",
    "mixed = {1, \"hello\", 3.14,5.6,6.7}\n",
    "\n",
    "for Iter in zip(numbers,strings,mixed):\n",
    "    print(Iter)"
   ]
  },
  {
   "cell_type": "markdown",
   "id": "4e201a02-d13e-4ed8-8876-6710a88a8e67",
   "metadata": {},
   "source": [
    "The zip() function returns a zip object, which is an iterator of tuples where the first item in each passed iterator is paired together, \n",
    "and then the second item in each passed iterator are paired together etc.\n",
    "If the passed iterables have different lengths, the iterable with the least items decides the length of the new iterator.\n",
    "Syntax\n",
    "zip(iterator1, iterator2, iterator3 ...)"
   ]
  },
  {
   "cell_type": "markdown",
   "id": "8516b5a6-b770-4de8-bb1c-8adfb79e5df7",
   "metadata": {},
   "source": [
    "## 4. Write a Python program to add and remove operation on set."
   ]
  },
  {
   "cell_type": "code",
   "execution_count": 23,
   "id": "4b304f89-507a-4dc9-bbde-0a560b42ab37",
   "metadata": {},
   "outputs": [
    {
     "name": "stdout",
     "output_type": "stream",
     "text": [
      "myset={True, 'for', 'Geeks', 10, 52.7} type of myset=<class 'set'>\n",
      "added myset={True, 'for', 'Geeks', 'oranges', 10, 52.7} type of myset=<class 'set'>\n",
      "added myset={True, 'for', 'Geeks', 'oranges', 10, 52.7, 'bread'} type of myset=<class 'set'>\n",
      "remove myset={True, 'for', 'Geeks', 10, 52.7, 'bread'} type of myset=<class 'set'>\n",
      "Error:car not found\n"
     ]
    }
   ],
   "source": [
    "#create set\n",
    "myset = {\"Geeks\", \"for\", 10, 52.7, True}\n",
    "print(f\"myset={myset} type of myset={type(myset)}\")\n",
    "myset.add(\"oranges\")\n",
    "print(f\"added myset={myset} type of myset={type(myset)}\")\n",
    "myset.add(\"bread\")\n",
    "print(f\"added myset={myset} type of myset={type(myset)}\")\n",
    "myset.remove(\"oranges\")\n",
    "print(f\"remove myset={myset} type of myset={type(myset)}\")\n",
    "#handle Error\n",
    "try:\n",
    "    myset.remove(\"car\")\n",
    "    raise (keyError)\n",
    "except KeyError:\n",
    "    print(f\"Error:car not found\")"
   ]
  },
  {
   "cell_type": "markdown",
   "id": "979d2e3a-ced5-4ec6-861a-f68f1c765362",
   "metadata": {},
   "source": [
    "set.add(\"element to add\")\n",
    "The Python set add() method adds a given element to a set if the element is not present in the set in Python.\n",
    "set.remove(\"element to remove\")\n",
    "The remove() method removes the specified element from the set.\n",
    "This method is different from the discard() method, \n",
    "because the remove() method will raise an error if the specified item does not exist, and the discard() method will not."
   ]
  },
  {
   "cell_type": "code",
   "execution_count": null,
   "id": "3f0af825-9262-4aec-8d87-296af1b08312",
   "metadata": {},
   "outputs": [],
   "source": []
  }
 ],
 "metadata": {
  "kernelspec": {
   "display_name": "Python 3 (ipykernel)",
   "language": "python",
   "name": "python3"
  },
  "language_info": {
   "codemirror_mode": {
    "name": "ipython",
    "version": 3
   },
   "file_extension": ".py",
   "mimetype": "text/x-python",
   "name": "python",
   "nbconvert_exporter": "python",
   "pygments_lexer": "ipython3",
   "version": "3.8.10"
  }
 },
 "nbformat": 4,
 "nbformat_minor": 5
}
