{
  "metadata": {
    "kernelspec": {
      "name": "python",
      "display_name": "Python (Pyodide)",
      "language": "python"
    },
    "language_info": {
      "codemirror_mode": {
        "name": "python",
        "version": 3
      },
      "file_extension": ".py",
      "mimetype": "text/x-python",
      "name": "python",
      "nbconvert_exporter": "python",
      "pygments_lexer": "ipython3",
      "version": "3.8"
    }
  },
  "nbformat_minor": 4,
  "nbformat": 4,
  "cells": [
    {
      "cell_type": "markdown",
      "source": "## Assignment 4",
      "metadata": {}
    },
    {
      "cell_type": "markdown",
      "source": "## set-c",
      "metadata": {}
    },
    {
      "cell_type": "markdown",
      "source": "## 1. Write a Python program to perform different set operations.",
      "metadata": {}
    },
    {
      "cell_type": "code",
      "source": "set1 = {1, 2, 3, 4, 5}\nset2 = {3, 4, 5, 6, 7}\nset3 = {3}\nset4 = {1,2,3,4,5}\n#union \nunion=set1|set2\nprint(f\"Union of set1,set2={union} type={type(union)}\")\n#add() element\nset1.add(\"cherry\")\nprint(f\"adding element in set1={set1} type={type(set1)}\")\n#issubset() \nsubset=set3.issubset(set1)\nprint(f\"issubset() method={subset} type={type(subset)}\")\n#issuperset()\nsuperset=set1.issuperset(set4)\nprint(f\"issuperset() method={superset} type={type(superset)}\")\n#update()\n#update=\nset1.update(set2)\nprint(f\"update() method={set1} type={type(set1)}\")",
      "metadata": {
        "trusted": true
      },
      "outputs": [
        {
          "name": "stdout",
          "text": "Union of set1,set2={1, 2, 3, 4, 5, 6, 7} type=<class 'set'>\nadding element in set1={1, 2, 3, 4, 5, 'cherry'} type=<class 'set'>\nissubset() method=True type=<class 'bool'>\nissuperset() method=True type=<class 'bool'>\nupdate() method={1, 2, 3, 4, 5, 6, 7, 'cherry'} type=<class 'set'>\n",
          "output_type": "stream"
        }
      ],
      "execution_count": 14
    },
    {
      "cell_type": "markdown",
      "source": "In Python, a superset is a set that contains all of the elements of another set, and possibly more. \nFor example, the set {1, 2, 3, 4} is a superset of the set {1, 2, 3}.",
      "metadata": {}
    },
    {
      "cell_type": "markdown",
      "source": "In Python, a subset is a collection of elements that are contained within another collection, \ncalled the superset. \nSubsets can be represented using any iterable data type, such as lists, tuples, or sets. \nTo check if a subset is contained within a superset, \nyou can use the issubset() method of the set object.",
      "metadata": {}
    },
    {
      "cell_type": "markdown",
      "source": "Update(): a set with the union of itself and others",
      "metadata": {}
    },
    {
      "cell_type": "markdown",
      "source": "## 2. Write a Python program to create a shallow copy of sets.",
      "metadata": {}
    },
    {
      "cell_type": "code",
      "source": "set1 = {1, 2, 3, 4, 5}\ncopyset=set1.copy()\nprint(f\"copyset={copyset} type={type(copyset)}\")",
      "metadata": {
        "trusted": true
      },
      "outputs": [
        {
          "name": "stdout",
          "text": "copyset={1, 2, 3, 4, 5} type=<class 'set'>\n",
          "output_type": "stream"
        }
      ],
      "execution_count": 16
    },
    {
      "cell_type": "code",
      "source": "",
      "metadata": {
        "trusted": true
      },
      "outputs": [],
      "execution_count": null
    }
  ]
}