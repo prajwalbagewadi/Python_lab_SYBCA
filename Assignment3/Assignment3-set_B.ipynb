{
 "cells": [
  {
   "cell_type": "markdown",
   "id": "a522ed76-f4ba-4f4a-8af5-fca23a48b10d",
   "metadata": {},
   "source": [
    "## ASSIGNMENT NO. 3:- PYTHON TUPLE"
   ]
  },
  {
   "cell_type": "markdown",
   "id": "278fb93c-16b6-4fa8-812b-4f59de2996be",
   "metadata": {},
   "source": [
    "## Set-B"
   ]
  },
  {
   "cell_type": "markdown",
   "id": "a9d71a07-b8a4-4c03-b574-c7d80431bd73",
   "metadata": {},
   "source": [
    "## 1. Write a Python program to convert a tuple to a string."
   ]
  },
  {
   "cell_type": "markdown",
   "id": "be62e60c-8be6-4a4e-86b4-32ea6a3f53d4",
   "metadata": {},
   "source": [
    "use of tuple() method :\n",
    "The Python tuple() function is a built-in function in Python that can be used to create a tuple.\n",
    "from a list, set, or any iterable object.    \n",
    "A tuple is an ordered and immutable sequence type"
   ]
  },
  {
   "cell_type": "code",
   "execution_count": 6,
   "id": "919b0250-be42-48b0-99e6-2914dde44212",
   "metadata": {},
   "outputs": [
    {
     "name": "stdin",
     "output_type": "stream",
     "text": [
      "Enter a string: prajwal\n"
     ]
    },
    {
     "name": "stdout",
     "output_type": "stream",
     "text": [
      "data= prajwal\n",
      "type of data= <class 'str'>\n",
      "tup= ('p', 'r', 'a', 'j', 'w', 'a', 'l')\n",
      "type of tup= <class 'tuple'>\n"
     ]
    }
   ],
   "source": [
    "#string var:\n",
    "data=input(\"Enter a string:\")\n",
    "print(\"data=\",data)\n",
    "print(\"type of data=\",type(data))\n",
    "# tuple var declaration and converting str to tuple\n",
    "tup=()\n",
    "#convert str to tuple\n",
    "tup=tuple(data)\n",
    "print(\"tup=\",tup)\n",
    "print(\"type of tup=\",type(tup))"
   ]
  },
  {
   "cell_type": "markdown",
   "id": "aa4742ae-09a9-4fd4-926b-013186070145",
   "metadata": {},
   "source": [
    "## 2. Sort the tuple - Tuple=(2, 4, 6, 1, 4, 7.8, 2.7)"
   ]
  },
  {
   "cell_type": "markdown",
   "id": "952d9166-f705-4dc4-a23e-81c4084e7175",
   "metadata": {},
   "source": [
    "sorted(): Take elements in the tuple and return a new sorted list (does not sort the tuple itself).\n",
    "\n",
    "convert list to tuple using tuple():"
   ]
  },
  {
   "cell_type": "code",
   "execution_count": 11,
   "id": "34622af6-de20-4d1a-9ac4-8e029e4b01d0",
   "metadata": {},
   "outputs": [
    {
     "name": "stdout",
     "output_type": "stream",
     "text": [
      "Tuple= (2, 4, 6, 1, 4, 7.8, 2.7)\n",
      "type of Tuple= <class 'tuple'>\n",
      "srt_lst= [1, 2, 2.7, 4, 4, 6, 7.8]\n",
      "type of srt_lst= <class 'list'>\n",
      "Tuple= (1, 2, 2.7, 4, 4, 6, 7.8)\n",
      "type of Tuple= <class 'tuple'>\n"
     ]
    }
   ],
   "source": [
    "#tuple\n",
    "Tuple=(2, 4, 6, 1, 4, 7.8, 2.7)\n",
    "print(\"Tuple=\",Tuple)\n",
    "print(\"type of Tuple=\",type(Tuple))\n",
    "# in-built method sorted()\n",
    "srt_lst=sorted(Tuple)\n",
    "print(\"srt_lst=\",srt_lst)\n",
    "print(\"type of srt_lst=\",type(srt_lst))\n",
    "# convert sorted list back to tuple():\n",
    "Tuple=tuple(srt_lst)\n",
    "print(\"Tuple=\",Tuple)\n",
    "print(\"type of Tuple=\",type(Tuple))"
   ]
  },
  {
   "cell_type": "markdown",
   "id": "70fbba20-b54c-4d1f-ab6e-be3743cffdaf",
   "metadata": {},
   "source": [
    "## 3. Write a Python program to get the 5th element from front and 5th element from last of a tuple."
   ]
  },
  {
   "cell_type": "markdown",
   "id": "1d375b11-b067-488f-b957-a2ed9cceac14",
   "metadata": {},
   "source": [
    "F-strings, introduced in Python 3.6 and later versions, \n",
    "provide a concise and convenient way to embed expressions inside string literals. \n",
    "You can create an f-string by prefixing a string with the letter 'f' or 'F'. Here's an example:\n",
    "\n",
    "python\n",
    "Copy code\n",
    "name = \"Alice\"\n",
    "age = 30\n",
    "\n",
    "# Using f-string to embed variables in a string\n",
    "message = f\"Hello, {name}! You are {age} years old.\"\n",
    "print(message)"
   ]
  },
  {
   "cell_type": "code",
   "execution_count": 24,
   "id": "90bee7cf-732c-492c-8208-9acd3dcee433",
   "metadata": {},
   "outputs": [
    {
     "name": "stdin",
     "output_type": "stream",
     "text": [
      "enter element number to get 5\n"
     ]
    },
    {
     "name": "stdout",
     "output_type": "stream",
     "text": [
      "Element at 4=4\n",
      "Element at -5=6\n"
     ]
    }
   ],
   "source": [
    "#tuple\n",
    "Tuple=(2, 4, 6, 1, 4, 7.8, 2.7)\n",
    "# element number to get \n",
    "# to get the positive  pos for the inserted value : use val -1\n",
    "pos=int(input(\"enter element number to get\"))-1\n",
    "print(f\"Element at {pos}={ Tuple[pos]}\")\n",
    "# to get the negative pos for the inserted value : use -(val+1)\n",
    "print(f\"Element at {-(pos+1)}={Tuple[-(pos+1)]}\")"
   ]
  },
  {
   "cell_type": "markdown",
   "id": "8078f33f-d191-4f50-ac8a-aa5867c2fe75",
   "metadata": {},
   "source": [
    "## 4. Write a Python program to find the repeated items of a tuple."
   ]
  },
  {
   "cell_type": "markdown",
   "id": "1077f4c5-6c38-476c-869d-68ae3c9973cd",
   "metadata": {},
   "source": [
    "Dict.items():\n",
    "The items() method in Python is a dictionary method that returns a view object that displays a list of a dictionary's key-value tuple pairs. \n",
    "This view object provides a dynamic view of the dictionary's entries, and any changes to the dictionary are reflected in the view, and vice versa."
   ]
  },
  {
   "cell_type": "code",
   "execution_count": 50,
   "id": "162a0aa6-3571-404d-906e-da487ee65956",
   "metadata": {},
   "outputs": [
    {
     "name": "stdout",
     "output_type": "stream",
     "text": [
      "Tuple= (2, 4, 6, 1, 4, 7.8, 2.7, 7.8)\n",
      "Type of Tuple= <class 'tuple'>\n",
      "type of box= <class 'list'>\n",
      "type of my_dict= <class 'dict'>\n",
      "repeated elemented= [4, 7.8]\n"
     ]
    }
   ],
   "source": [
    "Tuple=(2, 4, 6, 1, 4, 7.8, 2.7, 7.8)\n",
    "print(\"Tuple=\",Tuple)\n",
    "print(\"Type of Tuple=\",type(Tuple))\n",
    "def find_repeated(my_tuple):\n",
    "    #create empty list\n",
    "    box=[]\n",
    "    print(\"type of box=\",type(box))\n",
    "    #create empty dict\n",
    "    my_dict=dict()\n",
    "    print(\"type of my_dict=\",type(my_dict))\n",
    "    #fill the dict with tuple items and 0 counter\n",
    "    for item in my_tuple:\n",
    "        my_dict[item]=0\n",
    "    #update the counter for occurance for each key    \n",
    "    for item in my_tuple:\n",
    "        if(item in my_dict):\n",
    "            my_dict[item]+=1\n",
    "    #check if any keys have value greater then or =2         \n",
    "    for key,val in my_dict.items():\n",
    "        if(val>=2):\n",
    "            box.append(key)\n",
    "    return(box) \n",
    "    \n",
    "#function call\n",
    "lst=find_repeated(Tuple)\n",
    "print(\"repeated elemented=\",lst)   "
   ]
  },
  {
   "cell_type": "markdown",
   "id": "12bd0497-1743-46c1-816d-fedec51c0d82",
   "metadata": {},
   "source": [
    "## 5. Write a Python program to check whether an element exists within a tuple."
   ]
  },
  {
   "cell_type": "code",
   "execution_count": 1,
   "id": "d19cf474-6d9c-4c77-82cf-af3b73ea7b0e",
   "metadata": {},
   "outputs": [
    {
     "name": "stdout",
     "output_type": "stream",
     "text": [
      "mytuple=(1, 2, 3, 'strawberry', 'cherry', True)\n",
      "type of mytuple=<class 'tuple'>\n"
     ]
    },
    {
     "name": "stdin",
     "output_type": "stream",
     "text": [
      "enter element to search T\n"
     ]
    },
    {
     "data": {
      "text/plain": [
       "\"T  doesn't exists in my_tuple\""
      ]
     },
     "execution_count": 1,
     "metadata": {},
     "output_type": "execute_result"
    }
   ],
   "source": [
    "mytuple=(1, 2, 3, 'strawberry', 'cherry', True)\n",
    "print(f\"mytuple={mytuple}\")\n",
    "print(f\"type of mytuple={type(mytuple)}\")\n",
    "\n",
    "def my_search(my_tup,key):\n",
    "    if(key in my_tup):\n",
    "        return (f\"{key} exists in my_tuple\")\n",
    "    else:\n",
    "         return (f\"{key}  doesn't exists in my_tuple\")\n",
    "\n",
    "key=input(\"enter element to search\")\n",
    "my_search(mytuple,key)"
   ]
  },
  {
   "cell_type": "code",
   "execution_count": null,
   "id": "ad594c5e-b62a-4123-ae7b-081b50e5cc9d",
   "metadata": {},
   "outputs": [],
   "source": []
  }
 ],
 "metadata": {
  "kernelspec": {
   "display_name": "Python 3 (ipykernel)",
   "language": "python",
   "name": "python3"
  },
  "language_info": {
   "codemirror_mode": {
    "name": "ipython",
    "version": 3
   },
   "file_extension": ".py",
   "mimetype": "text/x-python",
   "name": "python",
   "nbconvert_exporter": "python",
   "pygments_lexer": "ipython3",
   "version": "3.12.1"
  }
 },
 "nbformat": 4,
 "nbformat_minor": 5
}
