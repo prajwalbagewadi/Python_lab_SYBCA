{
 "cells": [
  {
   "cell_type": "markdown",
   "metadata": {},
   "source": [
    "# ASSIGNMENT NO. 3:- PYTHON TUPLE"
   ]
  },
  {
   "cell_type": "markdown",
   "metadata": {},
   "source": [
    "A tuple is a sequence of immutable Python objects. Tuples are sequences, just like lists. The\n",
    "differences between tuples and lists are, the tuples cannot be changed unlike lists.Tuples use\n",
    "Parenthesis (), whereas lists use square [] brackets."
   ]
  },
  {
   "cell_type": "code",
   "execution_count": 2,
   "metadata": {},
   "outputs": [
    {
     "name": "stdout",
     "output_type": "stream",
     "text": [
      "/usr/bin/python3\n",
      "Python 2.7.18\r\n"
     ]
    }
   ],
   "source": [
    "import sys\n",
    "print(sys.executable)\n",
    "!python --version"
   ]
  },
  {
   "cell_type": "code",
   "execution_count": 5,
   "metadata": {},
   "outputs": [
    {
     "name": "stdout",
     "output_type": "stream",
     "text": [
      "('a', 'b', 'c', 'd')\n",
      "type of tup3= <class 'tuple'>\n"
     ]
    }
   ],
   "source": [
    "Tuple = () # empty tuple\n",
    "tup1 = ('physics', 'chemistry', 1997, 2000);\n",
    "tup2 = (1, 2, 3, 4, 5 );\n",
    "tup3 = \"a\", \"b\", \"c\", \"d\";\n",
    "print(tup3)\n",
    "print(\"type of tup3=\",type(tup3))"
   ]
  },
  {
   "cell_type": "markdown",
   "metadata": {},
   "source": [
    "Accessing values of a tuple"
   ]
  },
  {
   "cell_type": "code",
   "execution_count": 6,
   "metadata": {},
   "outputs": [
    {
     "name": "stdout",
     "output_type": "stream",
     "text": [
      "tup1= ('physics', 'chemistry', 1997, 2000)\n",
      "tup2= (1, 2, 3, 4, 5, 6, 7)\n"
     ]
    }
   ],
   "source": [
    "tup1 = ('physics', 'chemistry', 1997, 2000);\n",
    "tup2 = (1, 2, 3, 4, 5, 6, 7 );\n",
    "print(\"tup1=\",tup1)\n",
    "print(\"tup2=\",tup2)"
   ]
  },
  {
   "cell_type": "code",
   "execution_count": 9,
   "metadata": {},
   "outputs": [
    {
     "name": "stdout",
     "output_type": "stream",
     "text": [
      "tup1 slice= ('physics',)\n",
      "tup1 slice= ('physics', 'chemistry')\n",
      "tup2 slice= (3, 4, 5, 6)\n"
     ]
    }
   ],
   "source": [
    "# slicing access\n",
    "tup1 = ('physics', 'chemistry', 1997, 2000);\n",
    "tup2 = (1, 2, 3, 4, 5, 6, 7 );\n",
    "print(\"tup1 slice=\",tup1[0:1])\n",
    "print(\"tup1 slice=\",tup1[0:2])\n",
    "print(\"tup2 slice=\",tup2[2:6])"
   ]
  },
  {
   "cell_type": "markdown",
   "metadata": {},
   "source": [
    "# Set-A"
   ]
  },
  {
   "cell_type": "markdown",
   "metadata": {},
   "source": [
    "# 1. Reverse the following tuple aTup = (10, 20, 30, 40, 50)"
   ]
  },
  {
   "cell_type": "markdown",
   "metadata": {},
   "source": [
    "reversed() is a built-in function in Python used to get a reversed iterator of a sequence. \n",
    "reversed function is similar to the iter() method but in reverse order. \n",
    "An iterator is an object used to iterate over an iterable."
   ]
  },
  {
   "cell_type": "markdown",
   "metadata": {},
   "source": [
    "The tuple() function is used to create a tuple from a list, set, or any iterable object. "
   ]
  },
  {
   "cell_type": "code",
   "execution_count": 14,
   "metadata": {},
   "outputs": [
    {
     "name": "stdout",
     "output_type": "stream",
     "text": [
      "reversed tuple= (50, 40, 30, 20, 10)\n"
     ]
    }
   ],
   "source": [
    "aTup = (10, 20, 30, 40, 50)\n",
    "out_tup=tuple(reversed(aTup))\n",
    "print(\"reversed tuple=\",out_tup)"
   ]
  },
  {
   "cell_type": "markdown",
   "metadata": {},
   "source": [
    "# 2. Write a Python program to create a list of tuples with the first element as the number and second element as the square of the number."
   ]
  },
  {
   "cell_type": "markdown",
   "metadata": {},
   "source": [
    "methods used:\n",
    "range() :\n",
    "In Python, the range() function is used to generate a sequence of numbers. \n",
    "It's commonly used in for loops to iterate over a sequence of numbers.\n",
    "\n",
    "i**2 :\n",
    "The ** operator is the exponentiation operator, and it raises the left operand to the power of the right operand.    \n",
    "    \n",
    "list.append():\n",
    "The append method is used to add a single element at the end of the list."
   ]
  },
  {
   "cell_type": "code",
   "execution_count": 26,
   "metadata": {},
   "outputs": [
    {
     "name": "stdout",
     "output_type": "stream",
     "text": [
      "type of temp <class 'tuple'>\n",
      "type of temp <class 'tuple'>\n",
      "type of temp <class 'tuple'>\n",
      "type of temp <class 'tuple'>\n",
      "type of temp <class 'tuple'>\n",
      "output= [(1, 1), (2, 4), (3, 9), (4, 16), (5, 25)]\n",
      "type of ans= <class 'list'>\n"
     ]
    }
   ],
   "source": [
    "n=5;\n",
    "def list_of_tuples(n):\n",
    "    #create a empty base list\n",
    "    ans=[]\n",
    "    for i in range(1,n+1):\n",
    "        temp=(i,i**2)\n",
    "        print(\"type of temp\",type(temp))\n",
    "        ans.append(temp)\n",
    "        \n",
    "    return ans\n",
    "\n",
    "ans=list_of_tuples(n)\n",
    "print(\"output=\",ans)\n",
    "print(\"type of ans=\",type(ans))"
   ]
  },
  {
   "cell_type": "markdown",
   "metadata": {},
   "source": [
    "# 3. Write a Python program to create a tuple with numbers and print one item."
   ]
  },
  {
   "cell_type": "markdown",
   "metadata": {},
   "source": [
    "a list of elements is created and the entire list is  inserted into a tuple with the tuple() :\n",
    "a tuple is a built-in data type that allows you to create immutable sequences of values. \n",
    "The values or items in a tuple can be of any type. \n",
    "This makes tuples pretty useful in those situations where you need to store heterogeneous data, \n",
    "like that in a database record, for example."
   ]
  },
  {
   "cell_type": "code",
   "execution_count": 7,
   "metadata": {},
   "outputs": [
    {
     "name": "stdout",
     "output_type": "stream",
     "text": [
      "ilterable= 1\n",
      "ilterable= 2\n",
      "ilterable= 3\n",
      "ilterable= 4\n",
      "ilterable= 5\n",
      "ilterable= 6\n",
      "ilterable= 7\n",
      "ilterable= 8\n",
      "ilterable= 9\n",
      "ilterable= 10\n",
      "tup= (1, 2, 3, 4, 5, 6, 7, 8, 9, 10)\n",
      "type of tup= <class 'tuple'>\n",
      "single element from tuple= 4\n"
     ]
    }
   ],
   "source": [
    "#empty tuple\n",
    "tup=()\n",
    "temp_lst=[]\n",
    "for i in range(1,11):\n",
    "    print(\"ilterable=\",i)\n",
    "    temp_lst.append(i)\n",
    "\n",
    "tup=tuple(temp_lst)\n",
    "print(\"tup=\",tup)\n",
    "print(\"type of tup=\",type(tup))\n",
    "print(\"single element from tuple=\",tup[3])"
   ]
  },
  {
   "cell_type": "markdown",
   "metadata": {},
   "source": [
    "# 4. Write a Python program to unpack a tuple in several variables."
   ]
  },
  {
   "cell_type": "markdown",
   "metadata": {},
   "source": [
    "When unpacking a tuple of long length, \n",
    "it's helpful to use the * operator, also known as the \"splat\" operator, \n",
    "to capture multiple values at once\n",
    "\n",
    "In this example, first will hold the first element of the tuple, \n",
    "last will hold the last element, \n",
    "and middle will hold all the elements in between. \n",
    "The *middle syntax gathers all the elements in between into a list"
   ]
  },
  {
   "cell_type": "markdown",
   "metadata": {},
   "source": [
    "we use unpacking as to remove the concept of immutable"
   ]
  },
  {
   "cell_type": "code",
   "execution_count": 28,
   "metadata": {},
   "outputs": [
    {
     "name": "stdout",
     "output_type": "stream",
     "text": [
      "len of tuple fruits= 5\n",
      "first= apple\n",
      "middle= ['banana', 'cherry', 'strawberry']\n",
      "last= raspberry\n"
     ]
    }
   ],
   "source": [
    "#create a tuple\n",
    "fruits = (\"apple\", \"banana\", \"cherry\", \"strawberry\", \"raspberry\")\n",
    "\n",
    "#len of the tuple\n",
    "print(\"len of tuple fruits=\",len(fruits));\n",
    "\n",
    "#unpacking logic\n",
    "fir,*mid,las=fruits\n",
    "print(\"first=\",fir)\n",
    "print(\"middle=\",mid)\n",
    "print(\"last=\",las)"
   ]
  },
  {
   "cell_type": "markdown",
   "metadata": {},
   "source": [
    "## 5. Write a Python program to add an item in a tuple."
   ]
  },
  {
   "cell_type": "code",
   "execution_count": 7,
   "metadata": {},
   "outputs": [
    {
     "name": "stdout",
     "output_type": "stream",
     "text": [
      "type of tup before= <class 'tuple'>\n",
      "tup = (0, 1, 2, 3, 4)\n",
      "type of tup after= <class 'tuple'>\n"
     ]
    }
   ],
   "source": [
    "#create empty tuple \n",
    "tup=(0,)\n",
    "#add element to tuple using += operator\n",
    "tup+=(1,) \n",
    "print(\"type of tup before=\",type(tup))\n",
    "tup+=(2,)\n",
    "tup+=(3,)\n",
    "tup+=(4,)\n",
    "print(\"tup =\",tup)\n",
    "print(\"type of tup after=\",type(tup))"
   ]
  },
  {
   "cell_type": "markdown",
   "metadata": {},
   "source": [
    "tup+=(1,) \n",
    "The comma is necessary to indicate that it's a tuple and not just a grouped expression.\n",
    "Without the comma, it would be treated as a string inside parentheses:"
   ]
  },
  {
   "cell_type": "code",
   "execution_count": 12,
   "metadata": {},
   "outputs": [
    {
     "name": "stdout",
     "output_type": "stream",
     "text": [
      "type of tup= <class 'tuple'>\n",
      "type of lst <class 'list'>\n",
      "type of tup= <class 'tuple'>\n",
      "tup = (0, 1, 2, 3, 4, 5, 6)\n"
     ]
    }
   ],
   "source": [
    "#create tuple \n",
    "tup=(0,1,2,3)\n",
    "\n",
    "#print type of tup\n",
    "print(\"type of tup=\",type(tup))\n",
    "#convert method for adding a element into tuple\n",
    "#convert tuple to list\n",
    "lst=list(tup)\n",
    "#print type of lst\n",
    "print(\"type of lst\",type(lst))\n",
    "lst.append(4)\n",
    "lst.append(5)\n",
    "lst.append(6)\n",
    "#convert list to tuple back\n",
    "tup=tuple(lst)\n",
    "#print type of tup\n",
    "print(\"type of tup=\",type(tup))\n",
    "print(\"tup =\",tup)"
   ]
  },
  {
   "cell_type": "markdown",
   "metadata": {},
   "source": [
    "## 6. Copy element 44 and 55 from the following tuple into a new tuple \n",
    "## tuple1 = (11, 22, 33, 44, 55, 66)"
   ]
  },
  {
   "cell_type": "code",
   "execution_count": 20,
   "metadata": {},
   "outputs": [
    {
     "name": "stdout",
     "output_type": "stream",
     "text": [
      "result tuple2= (44, 55)\n",
      "type of tuple2= <class 'tuple'>\n"
     ]
    }
   ],
   "source": [
    "#create tuple\n",
    "tuple1=(11,22,33,44,55,66)\n",
    "# we use slice method to Achive it\n",
    "tuple2=tuple1[3:-1]\n",
    "#[start_ind=3:end_ind=-1]\n",
    "print(\"result tuple2=\",tuple2)\n",
    "#print type of tuple2\n",
    "print(\"type of tuple2=\",type(tuple2))"
   ]
  },
  {
   "cell_type": "code",
   "execution_count": null,
   "metadata": {},
   "outputs": [],
   "source": []
  }
 ],
 "metadata": {
  "kernelspec": {
   "display_name": "Python 3 (ipykernel)",
   "language": "python",
   "name": "python3"
  },
  "language_info": {
   "codemirror_mode": {
    "name": "ipython",
    "version": 3
   },
   "file_extension": ".py",
   "mimetype": "text/x-python",
   "name": "python",
   "nbconvert_exporter": "python",
   "pygments_lexer": "ipython3",
   "version": "3.8.10"
  }
 },
 "nbformat": 4,
 "nbformat_minor": 4
}
