{
  "metadata": {
    "kernelspec": {
      "name": "python",
      "display_name": "Python (Pyodide)",
      "language": "python"
    },
    "language_info": {
      "codemirror_mode": {
        "name": "python",
        "version": 3
      },
      "file_extension": ".py",
      "mimetype": "text/x-python",
      "name": "python",
      "nbconvert_exporter": "python",
      "pygments_lexer": "ipython3",
      "version": "3.8"
    }
  },
  "nbformat_minor": 4,
  "nbformat": 4,
  "cells": [
    {
      "cell_type": "markdown",
      "source": "## ASSIGNMENT NO.5:- PYTHON DICTIONARY",
      "metadata": {}
    },
    {
      "cell_type": "markdown",
      "source": "Python dictionary is an unordered collection of items. While other compound data types have\nonly value as an element, a dictionary has a key: value pair.\nDictionaries are optimized to retrieve values when the key is known.",
      "metadata": {}
    },
    {
      "cell_type": "markdown",
      "source": "Creating a dictionary is as simple as placing items inside curly braces {} separated by comma.\nAn item has a key and the corresponding value expressed as a pair, key: value.\nWhile values can be of any data type and can repeat, keys must be of immutable type\n(string, number or tuple with immutable elements) and must be unique.",
      "metadata": {}
    },
    {
      "cell_type": "code",
      "source": "mydict={\"chocolate\":\"KitKat\",\"chips\":\" Banana Chips\"}\nprint(f\"mydict={mydict} type={type(mydict)}\")\n#integer keys\nmylist={1:\"milk\",2:\"chips\",3:\"bread\",4:\"cheese\"}\nprint(f\"mylist={mylist} type={type(mylist)}\")\n#mixed \nset={\"Amul Dark Chocolate\",\"Cadbury Bournville\"}\nmixed={1:[\"potato chips\",\"Tortilla chips\"],'choco':{\"Amul Dark Chocolate\",\"Cadbury Bournville\"}}\nprint(f\"mixed key[1]={mixed[1]} type={type(mixed[1])}\")\nprint(f\"mixed key[choco]={mixed['choco']} type={type(mixed['choco'])}\")\nprint(f\"mixed={mixed} type={type(mixed)}\")",
      "metadata": {
        "trusted": true
      },
      "outputs": [
        {
          "name": "stdout",
          "text": "mydict={'chocolate': 'KitKat', 'chips': ' Banana Chips'} type=<class 'dict'>\nmylist={1: 'milk', 2: 'chips', 3: 'bread', 4: 'cheese'} type=<class 'dict'>\nmixed key[1]=['potato chips', 'Tortilla chips'] type=<class 'list'>\nmixed key[choco]={'Amul Dark Chocolate', 'Cadbury Bournville'} type=<class 'set'>\nmixed={1: ['potato chips', 'Tortilla chips'], 'choco': {'Amul Dark Chocolate', 'Cadbury Bournville'}} type=<class 'dict'>\n",
          "output_type": "stream"
        }
      ],
      "execution_count": 11
    },
    {
      "cell_type": "code",
      "source": "#update a dict\nmylist={1:\"milk\",2:\"chips\",3:\"bread\",4:\"cheese\"}\nprint(f\"mylist={mylist} type={type(mylist)}\")\nmylist[1]=\"jam\"\nprint(f\"update mylist={mylist} type={type(mylist)}\")\n#add item\nmylist[5]=\"onion\"\nmylist[6]=\"tomato\"\nprint(f\"add mylist={mylist} type={type(mylist)}\")",
      "metadata": {
        "trusted": true
      },
      "outputs": [
        {
          "name": "stdout",
          "text": "mylist={1: 'milk', 2: 'chips', 3: 'bread', 4: 'cheese'} type=<class 'dict'>\nupdate mylist={1: 'jam', 2: 'chips', 3: 'bread', 4: 'cheese'} type=<class 'dict'>\nadd mylist={1: 'jam', 2: 'chips', 3: 'bread', 4: 'cheese', 5: 'onion', 6: 'tomato'} type=<class 'dict'>\n",
          "output_type": "stream"
        }
      ],
      "execution_count": 2
    },
    {
      "cell_type": "markdown",
      "source": "## 1. Write a Python script to access the value of a key from a dictionary.",
      "metadata": {}
    },
    {
      "cell_type": "code",
      "source": "cart={\"chips\":[\"potato chips\",\"Tortilla chips\"],\"chocolate\":{\"Amul Dark Chocolate\",\"Cadbury Bournville\"}}\n#elements are accessed with Key\nprint(f\"cart['chips']={cart['chips']} type={type(cart['chips'])}\")\n# from list element accessing a single list value\nprint(f\"cart['chips'][1]={cart['chips'][1]} type={type(cart['chips'][1])}\")",
      "metadata": {
        "trusted": true
      },
      "outputs": [
        {
          "name": "stdout",
          "text": "cart['chips']=['potato chips', 'Tortilla chips'] type=<class 'list'>\ncart['chips'][1]=Tortilla chips type=<class 'str'>\n",
          "output_type": "stream"
        }
      ],
      "execution_count": 14
    },
    {
      "cell_type": "markdown",
      "source": "## 2. Write a Python script to concatenate following dictionaries to create a new one.\n## Sample Dictionary:\n## dic1={1:10,2:20}\n## dic2={3:30,4:40}\n## dic3={5:50,6:60}",
      "metadata": {}
    },
    {
      "cell_type": "code",
      "source": "# dict's\ndic1={1:10,2:20}\ndic2={3:30,4:40}\ndic3={5:50,6:60}\n#concat using update() method\ndic2.update(dic3)\ndic1.update(dic2)\nprint(f\"dic1.update={dic1} type={type(dic1)}\")\n#concat using | operator\ndic4=(dic1|dic2|dic3)\nprint(f\"dic4 with | operator={dic4} type={type(dic4)}\")",
      "metadata": {
        "trusted": true
      },
      "outputs": [
        {
          "name": "stdout",
          "text": "dic1.update={1: 10, 2: 20, 3: 30, 4: 40, 5: 50, 6: 60} type=<class 'dict'>\ndic4 with | operator={1: 10, 2: 20, 3: 30, 4: 40, 5: 50, 6: 60} type=<class 'dict'>\n",
          "output_type": "stream"
        }
      ],
      "execution_count": 21
    },
    {
      "cell_type": "markdown",
      "source": "## 3. Write a Python program to iterate over dictionaries using for loops.",
      "metadata": {}
    },
    {
      "cell_type": "code",
      "source": "cart1={1:\"Bread\",2:\"Butter\",3:\"eggs\"}\ncart2={1:\"Jam\",2:\"Butter\",3:\"cheese\"}\ncart3={1:\"chips\",2:\"softdrink\",3:\"icecream\"}\n\ndef multi(d1,d2,d3):\n    for (key1,val1),(key2,val2),(key3,val3) in zip(d1.items(),d2.items(),d3.items()):\n        print(f\"key1:{key1} val1:{val1}  key2:{key2} val2:{val2}  key3:{key3} val3:{val3}\")\n\nmulti(cart1,cart2,cart3)",
      "metadata": {
        "trusted": true
      },
      "outputs": [
        {
          "name": "stdout",
          "text": "key1:1 val1:Bread  key2:1 val2:Jam  key3:1 val3:chips\nkey1:2 val1:Butter  key2:2 val2:Butter  key3:2 val3:softdrink\nkey1:3 val1:eggs  key2:3 val2:cheese  key3:3 val3:icecream\n",
          "output_type": "stream"
        }
      ],
      "execution_count": 37
    },
    {
      "cell_type": "markdown",
      "source": "## 4. Write a Python program to sum all the items in a dictionary.\n## Sample Dictionary: my_dict={'data1':100,'data2':-54,'data3':247}\n## Expected Result: 293",
      "metadata": {}
    },
    {
      "cell_type": "markdown",
      "source": "dict.values()\nReturn a new view of the dictionary's values\nsum()\nThe sum() function in Python is a built-in function that adds the items of an iterable and returns the sum. \nThe iterable can be any sequence of numbers, such as a list, tuple, or set. \nThe sum() function can also be used to add the elements of a string, but only if the string contains numbers.",
      "metadata": {}
    },
    {
      "cell_type": "code",
      "source": "my_dict={'data1':100,'data2':-54,'data3':247}\nprint(f\"my_dict{my_dict} sum={sum(my_dict.values())}\")",
      "metadata": {
        "trusted": true
      },
      "outputs": [
        {
          "name": "stdout",
          "text": "my_dict{'data1': 100, 'data2': -54, 'data3': 247} sum=293\n",
          "output_type": "stream"
        }
      ],
      "execution_count": 4
    },
    {
      "cell_type": "markdown",
      "source": "## 5. Write a Python program to remove a key from a dictionary.\n## Sample Dictionary: myDict={'a':1,'b':2,'c':3,'d':4}\n## Sample Output:\n## {'c': 3, 'b': 2, 'd': 4, 'a': 1}\n## {'c': 3, 'b': 2, 'd': 4}",
      "metadata": {}
    },
    {
      "cell_type": "code",
      "source": "myDict={'a':1,'b':2,'c':3,'d':4}\nprint(myDict)\n#pop() method with key\nRet=myDict.pop('a')\nprint(f\"element popped from dict={Ret}\")\nprint(f\"modified dict={myDict}\")",
      "metadata": {
        "trusted": true
      },
      "outputs": [
        {
          "name": "stdout",
          "text": "{'a': 1, 'b': 2, 'c': 3, 'd': 4}\nelement popped from dict=1\nmodified dict={'b': 2, 'c': 3, 'd': 4}\n",
          "output_type": "stream"
        }
      ],
      "execution_count": 26
    },
    {
      "cell_type": "markdown",
      "source": "pop:\nRemove the item with key and return its value or d if key is not found.\nIf d is not provided and key is not found, raises KeyError.\n\nsyntax:\npop(key)\nexample:\npop('key')",
      "metadata": {}
    },
    {
      "cell_type": "code",
      "source": "",
      "metadata": {
        "trusted": true
      },
      "outputs": [],
      "execution_count": null
    }
  ]
}