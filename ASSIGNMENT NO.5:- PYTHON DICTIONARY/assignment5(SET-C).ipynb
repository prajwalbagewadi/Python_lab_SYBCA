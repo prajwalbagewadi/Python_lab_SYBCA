{
  "metadata": {
    "kernelspec": {
      "name": "python",
      "display_name": "Python (Pyodide)",
      "language": "python"
    },
    "language_info": {
      "codemirror_mode": {
        "name": "python",
        "version": 3
      },
      "file_extension": ".py",
      "mimetype": "text/x-python",
      "name": "python",
      "nbconvert_exporter": "python",
      "pygments_lexer": "ipython3",
      "version": "3.8"
    }
  },
  "nbformat_minor": 4,
  "nbformat": 4,
  "cells": [
    {
      "cell_type": "markdown",
      "source": "## ASSIGNMENT NO.5:- PYTHON DICTIONARY",
      "metadata": {}
    },
    {
      "cell_type": "markdown",
      "source": "## SET-C",
      "metadata": {}
    },
    {
      "cell_type": "markdown",
      "source": "## 1. Write a Python program to create a dictionary from two lists without losing duplicate values.\n## Sample lists: ['Class-V', 'Class-VI', 'Class-VII', 'Class-VIII'], [1, 2, 2, 3]\n## Expected Output: defaultdict(<class 'set'>, {'Class-VII': {2}, 'Class-VI': {2}, 'Class-VIII': {3}, 'Class-V': {1}})",
      "metadata": {}
    },
    {
      "cell_type": "code",
      "source": "#CODE AVAILABE ON W3RESOURCE:\n#https://www.w3resource.com/python-exercises/dictionary/python-data-type-dictionary-exercise-36.php\n\n# Import the 'defaultdict' class from the 'collections' module.\nfrom collections import defaultdict\n\n# Create a list 'class_list' with class names and a list 'id_list' with corresponding IDs.\nclass_list = ['Class-V', 'Class-VI', 'Class-VII', 'Class-VIII']\nid_list = [1, 2, 2, 3]\n\n# Create a defaultdict 'temp' with set as the default factory function.\ntemp = defaultdict(set)\n\n# Iterate through paired elements of 'class_list' and 'id_list' using the 'zip' function.\nfor c, i in zip(class_list, id_list):\n    # Add the 'i' value to the set associated with the 'c' key in the 'temp' defaultdict.\n    temp[c].add(i)\n\n# Print the 'temp' defaultdict, which groups IDs by class name.\nprint(temp) ",
      "metadata": {
        "trusted": true
      },
      "outputs": [
        {
          "name": "stdout",
          "text": "defaultdict(<class 'set'>, {'Class-V': {1}, 'Class-VI': {2}, 'Class-VII': {2}, 'Class-VIII': {3}})\n",
          "output_type": "stream"
        }
      ],
      "execution_count": 6
    },
    {
      "cell_type": "code",
      "source": "#MY SOLUTION\nlst1=['Class-V', 'Class-VI', 'Class-VII', 'Class-VIII'] \nlst2=[1, 2, 2, 3]\nprint(f\"lst1={lst1} type={type(lst1)}\")\nprint(f\"lst1={lst2} type={type(lst2)}\")\ndict1=dict(zip(lst1,lst2))\nprint(f\"dict1={dict1} type={type(dict1)}\")",
      "metadata": {
        "trusted": true
      },
      "outputs": [
        {
          "name": "stdout",
          "text": "lst1=['Class-V', 'Class-VI', 'Class-VII', 'Class-VIII'] type=<class 'list'>\nlst1=[1, 2, 2, 3] type=<class 'list'>\ndict1={'Class-V': 1, 'Class-VI': 2, 'Class-VII': 2, 'Class-VIII': 3} type=<class 'dict'>\n",
          "output_type": "stream"
        }
      ],
      "execution_count": 10
    },
    {
      "cell_type": "code",
      "source": "#Research\nfrom collections import defaultdict\nlst1=['Class-V', 'Class-VI', 'Class-VI', 'Class-VIII'] \nlst2=[1, 2, 2, 3]\nprint(f\"lst1={lst1} type={type(lst1)}\")\nprint(f\"lst1={lst2} type={type(lst2)}\")\ndict1=defaultdict(set)\nfor i1,i2 in zip(lst1,lst2):\n    dict1[i1].add(i2)\nprint(dict1,type(dict1))",
      "metadata": {
        "trusted": true
      },
      "outputs": [
        {
          "name": "stdout",
          "text": "lst1=['Class-V', 'Class-VI', 'Class-VI', 'Class-VIII'] type=<class 'list'>\nlst1=[1, 2, 2, 3] type=<class 'list'>\ndefaultdict(<class 'set'>, {'Class-V': {1}, 'Class-VI': {2}, 'Class-VIII': {3}}) <class 'collections.defaultdict'>\n",
          "output_type": "stream"
        }
      ],
      "execution_count": 30
    },
    {
      "cell_type": "markdown",
      "source": "Duplicate keys are not allowed. \nA dictionary maps each key to a corresponding value, \nso it doesn't make sense to map a particular key more than once. \nIf you specify a key a second time during the initial creation of a dictionary, \nthen the second occurrence will override the first.\n\n30 Jul 2019\n\nRestrictions on Dictionary Keys and Values - Real Python",
      "metadata": {}
    },
    {
      "cell_type": "markdown",
      "source": "## 2. Write a Python program to create a dictionary of keys x, y, and z where each key has as\n## value a list from 11-20, 21-30, and 31-40 respectively. Access the fifth value of each key\n## from the dictionary.\n## Expected Output:\n## {'x': [11, 12, 13, 14, 15, 16, 17, 18, 19],\n## 'y': [21, 22, 23, 24, 25, 26, 27, 28, 29],\n## 'z': [31, 32, 33, 34, 35, 36, 37, 38, 39]}\n## 15\n## 25\n## 35\n## x has value [11, 12, 13, 14, 15, 16, 17, 18, 19]\n## y has value [21, 22, 23, 24, 25, 26, 27, 28, 29]\n## z has value [31, 32, 33, 34, 35, 36, 37, 38, 39]",
      "metadata": {}
    },
    {
      "cell_type": "code",
      "source": "#create empty dict\ndict1={}\nkeys=['x','y','z']\n#create a dictionary of keys x, y, and z where each key has as\nfor k in keys:\n    if(k=='x'):\n        dict1[k]=list(range(11,20))\n    elif(k=='y'):\n        dict1[k]=list(range(21,30))\n    else:\n        dict1[k]=list(range(31,40))\n        \nprint(f\"dict1={dict1} type={type(dict1)}\")\n#Access the fifth value of each key\nfor k in keys:\n    print(f\"dict1[k][4]={dict1[k][4]}\")",
      "metadata": {
        "trusted": true
      },
      "outputs": [
        {
          "name": "stdout",
          "text": "dict1={'x': [11, 12, 13, 14, 15, 16, 17, 18, 19], 'y': [21, 22, 23, 24, 25, 26, 27, 28, 29], 'z': [31, 32, 33, 34, 35, 36, 37, 38, 39]} type=<class 'dict'>\ndict1[k][4]=15\ndict1[k][4]=25\ndict1[k][4]=35\n",
          "output_type": "stream"
        }
      ],
      "execution_count": 43
    },
    {
      "cell_type": "code",
      "source": "",
      "metadata": {
        "trusted": true
      },
      "outputs": [],
      "execution_count": null
    },
    {
      "cell_type": "code",
      "source": "",
      "metadata": {
        "trusted": true
      },
      "outputs": [],
      "execution_count": null
    }
  ]
}