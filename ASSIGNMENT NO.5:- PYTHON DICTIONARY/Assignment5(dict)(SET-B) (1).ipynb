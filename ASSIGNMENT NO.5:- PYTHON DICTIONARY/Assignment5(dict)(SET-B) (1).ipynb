{
  "metadata": {
    "kernelspec": {
      "name": "python",
      "display_name": "Python (Pyodide)",
      "language": "python"
    },
    "language_info": {
      "codemirror_mode": {
        "name": "python",
        "version": 3
      },
      "file_extension": ".py",
      "mimetype": "text/x-python",
      "name": "python",
      "nbconvert_exporter": "python",
      "pygments_lexer": "ipython3",
      "version": "3.8"
    }
  },
  "nbformat_minor": 5,
  "nbformat": 4,
  "cells": [
    {
      "id": "dc9e87ce-b4be-4da7-b0f7-548302c65b89",
      "cell_type": "markdown",
      "source": "## ASSIGNMENT NO.5:- PYTHON DICTIONARY",
      "metadata": {}
    },
    {
      "id": "acd879d0-4ee6-422f-9429-912b36854d8e",
      "cell_type": "markdown",
      "source": "## SET-B",
      "metadata": {}
    },
    {
      "id": "ac8fada0-63c1-4423-a306-c4eacaab1e89",
      "cell_type": "markdown",
      "source": "## 1. Write a Python program to sort a dictionary by key.\n## Sample Dictionary:\n## color_dict = {'red':'#FF0000','green':'#008000','black':'#000000','white':'#FFFFFF'}\n## Expected Output:\n## black: #000000\n## green: #008000\n## red: #FF0000\n## white: #FFFFFF",
      "metadata": {}
    },
    {
      "id": "53a1c19f-bca6-422b-9452-9bfac9767f32",
      "cell_type": "code",
      "source": "color_dict = {'red':'#FF0000','green':'#008000','black':'#000000','white':'#FFFFFF'}\n# sort by key\nsrt_keys=sorted(color_dict.keys())\nprint(srt_keys)\nfor key in srt_keys:\n    print(f\"{key}:{color_dict[key]} \")",
      "metadata": {
        "trusted": true
      },
      "outputs": [
        {
          "name": "stdout",
          "text": "['black', 'green', 'red', 'white']\nblack:#000000 \ngreen:#008000 \nred:#FF0000 \nwhite:#FFFFFF \n",
          "output_type": "stream"
        }
      ],
      "execution_count": 7
    },
    {
      "id": "9d7b4425-1126-48c2-95e1-dcb3d2585d73",
      "cell_type": "markdown",
      "source": "sorted():\nThe sorted() method sorts the elements of the given iterable in ascending order and returns it.\ndict.keys()\nReturn a new view of the dictionary's keys.",
      "metadata": {}
    },
    {
      "id": "ae093b93-3669-4a7a-8bb6-4b58b4c2d26a",
      "cell_type": "markdown",
      "source": "## 2. Write a Python program to combine two dictionary adding values for common keys.\n## Sample Dictionary:\n## d1={'a':100,'b':200,'c':300}\n## d2={'a':300,'b':200,'d':400}\n## Sample output: Counter({'a': 400, 'b': 400, 'd': 400, 'c': 300})",
      "metadata": {}
    },
    {
      "id": "f79eac92-776f-4ba8-8306-c92c140b09cf",
      "cell_type": "code",
      "source": "from collections import Counter\nd1={'a':100,'b':200,'c':300}\nd2={'a':300,'b':200,'d':400}\n\ndef process(d1,d2):\n    #empty dict\n    ans={}\n    ans=Counter(d1)+Counter(d2)\n    print(f\"->{Counter(d1),Counter(d2)}\")\n    return ans\n\nresult=process(d1,d2)\nprint(f\"result={result} type={type(result)}\")\n\nd3={'a':100,'b':200,'c':300}\nd4={'e':300,'f':200,'d':400}\n\nresult1=process(d3,d4)\nprint(f\"result1={result1} type={type(result1)}\")",
      "metadata": {
        "trusted": true
      },
      "outputs": [
        {
          "name": "stdout",
          "text": "->(Counter({'c': 300, 'b': 200, 'a': 100}), Counter({'d': 400, 'a': 300, 'b': 200}))\nresult=Counter({'a': 400, 'b': 400, 'd': 400, 'c': 300}) type=<class 'collections.Counter'>\n->(Counter({'c': 300, 'b': 200, 'a': 100}), Counter({'d': 400, 'e': 300, 'f': 200}))\nresult1=Counter({'d': 400, 'c': 300, 'e': 300, 'b': 200, 'f': 200, 'a': 100}) type=<class 'collections.Counter'>\n",
          "output_type": "stream"
        }
      ],
      "execution_count": 25
    },
    {
      "id": "d4801f7c-7569-4df9-9247-000fafff7b7c",
      "cell_type": "markdown",
      "source": "Counter()\nfrom collections import Counter\nPython Counter takes in input a list, tuple, dictionary, string, which are all iterable objects,\nand it will give you output that will have the count of each element.",
      "metadata": {}
    },
    {
      "id": "d0544669-d6a6-4804-97dd-ab0f8b3e4a98",
      "cell_type": "code",
      "source": "from collections import Counter\n#Counter():\n#example:\nStr=\"prajwal\"\nprint(f\"Counter={Counter(Str)}\")",
      "metadata": {
        "trusted": true
      },
      "outputs": [
        {
          "name": "stdout",
          "text": "Counter=Counter({'a': 2, 'p': 1, 'r': 1, 'j': 1, 'w': 1, 'l': 1})\n",
          "output_type": "stream"
        }
      ],
      "execution_count": 27
    },
    {
      "id": "bea289ba-0f73-4915-a47a-e4029d597362",
      "cell_type": "code",
      "source": "d1={'a':100,'b':200,'c':300}\nd2={'a':300,'b':200,'d':400}\n\ndef user(d1,d2):\n    #create empty dict\n    cnt={}\n    for key1 in d1.keys():\n        for key2 in d2.keys():\n            if(key1==key2):\n                print(\"if\",key1)\n                cnt[key2]=d1[key1]+d2[key2]\n            elif(key1>key2):\n                print(\"elif1\",key1,key2)\n                cnt[key1]=d1[key1]\n            elif(key1<key2):\n                print(\"elif2\",key2,key1)\n                cnt[key2]=d2[key2]\n                \n\n    return cnt\n\nans=user(d1,d2)\nprint(ans)",
      "metadata": {
        "trusted": true
      },
      "outputs": [
        {
          "name": "stdout",
          "text": "if a\nelif2 b a\nelif2 d a\nelif1 b a\nif b\nelif2 d b\nelif1 c a\nelif1 c b\nelif2 d c\n{'a': 400, 'b': 400, 'd': 400, 'c': 300}\n",
          "output_type": "stream"
        }
      ],
      "execution_count": 19
    },
    {
      "id": "8f6a9300-7866-45bc-acd3-6445ed0e88c6",
      "cell_type": "markdown",
      "source": "## 3. Write a Python script to generate and print a dictionary that contains a number (Between\n## 1 and n) in the form (x, x*x).\n## Sample Dictionary (n = 5)\n## Expected Output : {1: 1, 2: 4, 3: 9, 4: 16, 5: 25}",
      "metadata": {}
    },
    {
      "id": "8e1d71a5-7a6b-4018-89a2-2d91b171ead2",
      "cell_type": "code",
      "source": "\ndef create_dict(n):\n    #empty dict\n    mydict={}\n    for i in range(1,n+1):\n        mydict[i]=i*i\n\n    return mydict\n\n#n=input(\"enter limit: \")\n#n=int(n)\nodict=create_dict(10)\nprint(f\"odict={odict} type={type(odict)}\")",
      "metadata": {
        "trusted": true
      },
      "outputs": [
        {
          "name": "stdout",
          "text": "odict={1: 1, 2: 4, 3: 9, 4: 16, 5: 25, 6: 36, 7: 49, 8: 64, 9: 81, 10: 100} type=<class 'dict'>\n",
          "output_type": "stream"
        }
      ],
      "execution_count": 39
    },
    {
      "id": "55b80e7e-3b4d-490d-a10b-4932f23edef7",
      "cell_type": "markdown",
      "source": "n=input(\"enter limit: \") behaves inexpectedly in jupyter ",
      "metadata": {}
    },
    {
      "id": "7eb05b14-b729-46ff-8ead-019493e03ea2",
      "cell_type": "markdown",
      "source": "## 4. Write a Python program to create a dictionary from a string.\n## Sample-String:’W3resource’\n## Expected output: {'3': 1, 's': 1, 'r': 2, 'u': 1, 'w': 1, 'c': 1, 'e': 2, 'o': 1}",
      "metadata": {}
    },
    {
      "id": "1aee80da-2ea0-47cb-969d-e6044a37bf7b",
      "cell_type": "code",
      "source": "from collections import Counter\nString='W3resource'\n\ndef str_dict(String):\n    #empty dict\n    mydict={}\n    mydict=dict(Counter(String))\n    return mydict\n\nans_dict=str_dict(String)\nprint(f\"ans_dict={ans_dict} type={type(ans_dict)}\")",
      "metadata": {
        "trusted": true
      },
      "outputs": [
        {
          "name": "stdout",
          "text": "ans_dict={'W': 1, '3': 1, 'r': 2, 'e': 2, 's': 1, 'o': 1, 'u': 1, 'c': 1} type=<class 'dict'>\n",
          "output_type": "stream"
        }
      ],
      "execution_count": 47
    },
    {
      "id": "75cf977d-d4c3-4f25-8721-3760bac7f1da",
      "cell_type": "markdown",
      "source": "dict():\ndict() function is used to create a new dictionary or convert other iterable objects into a dictionary.",
      "metadata": {}
    },
    {
      "id": "a7092d7a-2de4-4e3c-9729-244efd2050e6",
      "cell_type": "code",
      "source": "",
      "metadata": {
        "trusted": true
      },
      "outputs": [],
      "execution_count": null
    }
  ]
}